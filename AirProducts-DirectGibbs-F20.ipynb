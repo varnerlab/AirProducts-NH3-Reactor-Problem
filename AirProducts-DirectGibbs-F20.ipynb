{
 "cells": [
  {
   "cell_type": "markdown",
   "metadata": {},
   "source": [
    "### Direct Gibbs Minimization Air Products Reactor Case Study "
   ]
  },
  {
   "cell_type": "markdown",
   "metadata": {},
   "source": [
    "<img src=\"./figs/Reactor.png\">"
   ]
  },
  {
   "cell_type": "markdown",
   "metadata": {},
   "source": [
    "##### Strategy\n",
    "\n",
    "To find the outlet flow composition we'll minimize the Gibbs energy (in the gas phase):\n",
    "\n",
    "$$\\min_{\\dot{n}_{j}}\\sum_{i=1}^{\\mathcal{M}}\\dot{n}_{i}\\left(\\frac{G^{\\circ}_{i}}{RT}+\\ln{y_{i}\\hat{\\phi}^{v}_{i}\\bar{P}}\\right)$$\n",
    "\n",
    "where $\\mathcal{M}$ = 5 (NH3, H2, N2, H2O and O2) and $\\bar{P}=P/P^{\\circ}$. To make the problem easier, we'll assume gas phase behaves like an ideal gas, thus $\\hat{\\phi}^{v}_{i}\\simeq{1}$, and $\\bar{P}$ is given by:\n",
    "\n",
    "$$\\bar{P}=\\frac{RT}{P^{\\circ}}\\left(\\frac{\\dot{n}}{\\dot{V}}\\right)$$\n",
    "\n",
    "and:\n",
    "\n",
    "$$ y_{i} = \\frac{\\dot{n_{i}}}{\\dot{n}}$$\n",
    "\n",
    "The reference pressure $P^{\\circ}$, the temperature $T$, and the volumetric flow rates $\\dot{V}$ are given in the problem (or can be estimated), $\\dot{n}$ denotes the _total_ mol flow rate, while $\\dot{n}_{i}$ denotes the mol flow rate of species $i$. The objective function is subject to contraints for each atom (N,H,O) entering the reactor (same number of Ns or Hs that enter must leave). Lastly, we are only considering steady state.  "
   ]
  },
  {
   "cell_type": "code",
   "execution_count": 1,
   "metadata": {},
   "outputs": [
    {
     "name": "stderr",
     "output_type": "stream",
     "text": [
      "\u001b[32m\u001b[1m Activating\u001b[22m\u001b[39m environment at `~/Desktop/julia_work/airproducts_reactor_problem/Project.toml`\n"
     ]
    },
    {
     "data": {
      "text/plain": [
       "min_direct_gibbs_extent (generic function with 1 method)"
      ]
     },
     "execution_count": 1,
     "metadata": {},
     "output_type": "execute_result"
    }
   ],
   "source": [
    "# include -\n",
    "include(\"Include.jl\")"
   ]
  },
  {
   "cell_type": "markdown",
   "metadata": {},
   "source": [
    "#### Compute the equilibrium composition vector"
   ]
  },
  {
   "cell_type": "code",
   "execution_count": 5,
   "metadata": {},
   "outputs": [
    {
     "data": {
      "text/plain": [
       "5×2 Array{Any,2}:\n",
       " \"H2_dot\"   45.0804\n",
       " \"N2_dot\"   15.0247\n",
       " \"NH3_dot\"   0.471623\n",
       " \"H2O_dot\"   0.0516755\n",
       " \"O2_dot\"    0.00308983"
      ]
     },
     "execution_count": 5,
     "metadata": {},
     "output_type": "execute_result"
    }
   ],
   "source": [
    "n_dot_eq = min_direct_gibbs_composition();\n",
    "output = [\"H2_dot\" n_dot_eq[1] ; \"N2_dot\" n_dot_eq[2]; \"NH3_dot\" n_dot_eq[3]; \"H2O_dot\" n_dot_eq[4]; \"O2_dot\" n_dot_eq[5]]"
   ]
  },
  {
   "cell_type": "code",
   "execution_count": 9,
   "metadata": {},
   "outputs": [],
   "source": [
    "# Aspen estimate:\n",
    "ndot_aspen = [\n",
    "    45.56513    ;   # 1  H2 mol/sec\n",
    "    15.18838    ;   # 2  N2 mol/sec\n",
    "    0.1443598   ;   # 3  NH3 mol/sec\n",
    "    0.0578212   ;   # 4  H20 mol/sec\n",
    "    0.0         ;   # 5  O2 mol/sec\n",
    "];"
   ]
  },
  {
   "cell_type": "markdown",
   "metadata": {},
   "source": [
    "#### Check: let's compute the equilibrium extent of reaction, and compare compositions"
   ]
  },
  {
   "cell_type": "code",
   "execution_count": 6,
   "metadata": {},
   "outputs": [
    {
     "data": {
      "text/plain": [
       "15.024785173873823"
      ]
     },
     "execution_count": 6,
     "metadata": {},
     "output_type": "execute_result"
    }
   ],
   "source": [
    "𝝐 = min_direct_gibbs_extent()"
   ]
  },
  {
   "cell_type": "code",
   "execution_count": 10,
   "metadata": {},
   "outputs": [],
   "source": [
    "# what is the input mol flow rates -\n",
    "ndot_initial_in = [\n",
    "    1e-10       ;   # 1  H2 mol/sec\n",
    "    1e-10       ;   # 2  N2 mol/sec\n",
    "    30.5211     ;   # 3  NH3 mol/sec\n",
    "    0.0578212   ;   # 4  H20 mol/sec\n",
    "    1e-10       ;   # 5  O2 mol/sec\n",
    "];"
   ]
  },
  {
   "cell_type": "code",
   "execution_count": 12,
   "metadata": {},
   "outputs": [
    {
     "data": {
      "text/plain": [
       "5-element Array{Float64,1}:\n",
       "  3.0\n",
       "  1.0\n",
       " -2.0\n",
       "  0.0\n",
       "  0.0"
      ]
     },
     "execution_count": 12,
     "metadata": {},
     "output_type": "execute_result"
    }
   ],
   "source": [
    "# r1: 2*NH3 = N2+3*H2\n",
    "stochiometric_matrix = [\n",
    "    3.0         ;   # 1  H2\n",
    "    1.0         ;   # 2  N2\n",
    "    -2.0        ;   # 3  NH3\n",
    "    0.0         ;   # 4  H20\n",
    "    0.0         ;   # 5  O2\n",
    "]"
   ]
  },
  {
   "cell_type": "code",
   "execution_count": 13,
   "metadata": {},
   "outputs": [
    {
     "data": {
      "text/plain": [
       "5-element Array{Float64,1}:\n",
       " 45.07435552172147\n",
       " 15.024785173973823\n",
       "  0.47152965225235377\n",
       "  0.0578212\n",
       "  1.0e-10"
      ]
     },
     "execution_count": 13,
     "metadata": {},
     "output_type": "execute_result"
    }
   ],
   "source": [
    "n_dot_eq = ndot_initial_in + stochiometric_matrix*𝝐"
   ]
  }
 ],
 "metadata": {
  "kernelspec": {
   "display_name": "Julia 1.5.2",
   "language": "julia",
   "name": "julia-1.5"
  },
  "language_info": {
   "file_extension": ".jl",
   "mimetype": "application/julia",
   "name": "julia",
   "version": "1.5.2"
  }
 },
 "nbformat": 4,
 "nbformat_minor": 4
}
